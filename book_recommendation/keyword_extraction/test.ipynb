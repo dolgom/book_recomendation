{
 "cells": [
  {
   "cell_type": "code",
   "execution_count": 1,
   "metadata": {},
   "outputs": [
    {
     "name": "stdout",
     "output_type": "stream",
     "text": [
      "{'신희경', '프로데', '유요문', '정미경', '박범신', '황민구', '에단', '이옥남', '임진평', '클레어', '키건', '김소영', '주원규', '최진영', '잠', '헨리', '이소영', '설흔', '호크', '한예린', '이서수', '해이수', '황석영', '프랭크', '서정애', '이금이', '임선경', '스콧', '바움', '박상영', '무경', '광우', '김성근', '백화현', '조현구', '류시화', '김지윤', '모예스', '신승건', '배수아', '조예은', '백경', '김영희', '배윤슬', '정약용', '마스노', '공지영', '길승수', '아이셰', '에밀', '박소영', '채현국', '프랑시스', '성인', '문미순', '월터', '슌묘', '나기', '이미예', '김옥진', '곽재식', '안도현', '슐레스케', '정문경', '김두엽', '줄리언', '김주혜', '신형철', '문해교실', '심윤경', '강지영', '정유정', '이해인', '졸라', '한강', '김미희', '구병모', '나태주', '조조', '왕궈웨이', '최갑수', '알렉산더', '김재성', '반스', '하워드', '김범석', '지나영', '쿨린', '테비스', '마틴', '홍성원', '인썸', '다쿠보쿠', '민병훈', '윤성중', '베르베르', '조현영', '박혜란', '송유정', '박연준', '박태외', '나관중', '시메노', '정세랑', '이시카와', '정지아', '신혜우', '김초엽', '천선란', '전국', '엄지혜', '박경희', '쇼', '전진아', '배유안', '강리오', '김용택', '김유경', '이시다', '민이안', '이정록', '그뤼텐', '오', '김호연', '손원평', '김진명', '마녀체력(이영미)', '이다', '듀나', 'L.', '정혜영', '박완서', '한은형', '김려령', '할머니·할아버지', '김교석', '베르나르', '시인', '유영광', '박정애', '전성태', '박경리', '이상구', '채빈', '100명'}\n"
     ]
    }
   ],
   "source": [
    "from modules.utils import load_json\n",
    "\n",
    "stopwords = set()\n",
    "books = load_json('data/word.json')\n",
    "\n",
    "\"\"\"author 추출\"\"\"\n",
    "for book in books:\n",
    "    author = book['author']\n",
    "    if \" \" in author:\n",
    "        stopwords.update(author.split())  # 공백 기준으로 나눠서 추가\n",
    "    else:\n",
    "        stopwords.add(author)  # 그대로 추가\n",
    "\n",
    "print(stopwords)\n"
   ]
  },
  {
   "cell_type": "code",
   "execution_count": null,
   "metadata": {},
   "outputs": [],
   "source": []
  }
 ],
 "metadata": {
  "kernelspec": {
   "display_name": ".venv",
   "language": "python",
   "name": "python3"
  },
  "language_info": {
   "codemirror_mode": {
    "name": "ipython",
    "version": 3
   },
   "file_extension": ".py",
   "mimetype": "text/x-python",
   "name": "python",
   "nbconvert_exporter": "python",
   "pygments_lexer": "ipython3",
   "version": "3.13.0"
  }
 },
 "nbformat": 4,
 "nbformat_minor": 2
}
